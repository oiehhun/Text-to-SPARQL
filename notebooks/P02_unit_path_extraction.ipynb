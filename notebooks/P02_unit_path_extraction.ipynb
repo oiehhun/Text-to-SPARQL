{
 "cells": [
  {
   "cell_type": "code",
   "execution_count": 1,
   "metadata": {},
   "outputs": [],
   "source": [
    "import sys\n",
    "sys.path.append('../')\n",
    "from setting import config_read"
   ]
  },
  {
   "cell_type": "code",
   "execution_count": 2,
   "metadata": {},
   "outputs": [
    {
     "name": "stderr",
     "output_type": "stream",
     "text": [
      "* Owlready2 * Warning: optimized Cython parser module 'owlready2_optimized' is not available, defaulting to slower Python implementation\n",
      "\n",
      "Warning: SQLite3 version 3.40.0 and 3.41.2 have huge performance regressions; please install version 3.41.1 or 3.42!\n",
      "\n"
     ]
    }
   ],
   "source": [
    "import rdflib\n",
    "import pandas as pd\n",
    "from owlready2 import *"
   ]
  },
  {
   "cell_type": "code",
   "execution_count": 3,
   "metadata": {},
   "outputs": [
    {
     "data": {
      "text/plain": [
       "3824"
      ]
     },
     "execution_count": 3,
     "metadata": {},
     "output_type": "execute_result"
    }
   ],
   "source": [
    "config = config_read('../')\n",
    "\n",
    "# Load owl file\n",
    "data_path = config['owl']['path']\n",
    "onto = get_ontology(data_path).load()\n",
    "\n",
    "g = rdflib.Graph()\n",
    "g.parse(data_path)\n",
    "\n",
    "knows_query = \"\"\"\n",
    "SELECT DISTINCT ?x ?y ?z\n",
    "WHERE {\n",
    "    ?x ?y ?z.\n",
    "}\"\"\"\n",
    "\n",
    "triple_list = []\n",
    "qres = g.query(knows_query)\n",
    "for row in qres:\n",
    "    triple_list.append([str(row[0]), str(row[1]), str(row[2])])\n",
    "len(triple_list)"
   ]
  },
  {
   "cell_type": "code",
   "execution_count": 4,
   "metadata": {},
   "outputs": [],
   "source": [
    "triple_text_list = []\n",
    "for s,p,o in triple_list:\n",
    "    s_res = onto.search_one(iri=s)\n",
    "    if s_res == None : \n",
    "        s_triple = s\n",
    "    else:\n",
    "        s_triple = s_res\n",
    "\n",
    "    p_res = onto.search_one(iri=p)\n",
    "    if p_res == None :\n",
    "        p_triple = p\n",
    "    else:\n",
    "        p_triple = p_res\n",
    "\n",
    "    o_res = onto.search_one(iri=o)\n",
    "    if o_res == None : \n",
    "        o_triple = o\n",
    "    else:\n",
    "        o_triple = o_res\n",
    "    \n",
    "    triple_text_list.append([s_triple, p_triple, o_triple])"
   ]
  },
  {
   "cell_type": "code",
   "execution_count": 5,
   "metadata": {},
   "outputs": [
    {
     "name": "stdout",
     "output_type": "stream",
     "text": [
      "겹치는 트리플 개수 :  157\n",
      "중복 제거 후 트리플 개수 :  3667\n"
     ]
    }
   ],
   "source": [
    "triple_df = pd.DataFrame(triple_text_list, columns=['S','P','O'])\n",
    "print('겹치는 트리플 개수 : ', sum(triple_df.duplicated(['S','P','O'])))  \n",
    "triple_df = triple_df.drop_duplicates(['S','P','O']).reset_index(drop=True) # 중복제거\n",
    "print('중복 제거 후 트리플 개수 : ', len(triple_df))"
   ]
  },
  {
   "cell_type": "code",
   "execution_count": 6,
   "metadata": {},
   "outputs": [],
   "source": [
    "p_list = list(onto.object_properties())\n",
    "p_list.extend(onto.data_properties())\n",
    "drop_prop_df = triple_df[triple_df.P.isin(p_list)].reset_index(drop=True)"
   ]
  },
  {
   "cell_type": "code",
   "execution_count": 7,
   "metadata": {},
   "outputs": [],
   "source": [
    "p_dict= {}\n",
    "for p in onto.data_properties():\n",
    "    if len(p.range) == 0:\n",
    "        continue\n",
    "    ## Literal인 경우\n",
    "    if p.range[0] == None:\n",
    "         p_dict[p] = 'Literal_'+str(p)\n",
    "\n",
    "    ## 다른 type인 경우\n",
    "    elif hasattr(p.range[0], '__name__'):\n",
    "         p_dict[p] = p.range[0].__name__+'_'+str(p)\n",
    "    else:\n",
    "         p_dict[p] = str(p.range[0])+'_'+str(p)"
   ]
  },
  {
   "cell_type": "code",
   "execution_count": 8,
   "metadata": {},
   "outputs": [],
   "source": [
    "range_tbox = []\n",
    "for i, row in drop_prop_df.iterrows():\n",
    "    s,p,o = row\n",
    "    # datatype property인 경우\n",
    "    if p in p_dict:\n",
    "        range_tbox.append(p_dict[p])\n",
    "    # object property인 경우\n",
    "    else:\n",
    "        range_tbox.append(o.is_a)"
   ]
  },
  {
   "cell_type": "code",
   "execution_count": 9,
   "metadata": {},
   "outputs": [],
   "source": [
    "tbox_df = drop_prop_df.copy()\n",
    "\n",
    "tbox_df['domain'] = tbox_df['S'].apply(lambda x:x.is_a)\n",
    "tbox_df['range'] = range_tbox\n",
    "\n",
    "tbox_df = tbox_df.explode(['domain'])\n",
    "tbox_df = tbox_df.explode(['range'])\n",
    "\n",
    "tbox_df = tbox_df[tbox_df['domain'] != Thing]\n",
    "tbox_df = tbox_df.astype(str).reset_index(drop=True)"
   ]
  },
  {
   "cell_type": "code",
   "execution_count": 10,
   "metadata": {},
   "outputs": [],
   "source": [
    "# the number of instance-level triples containing the property of the unit path\n",
    "dpr_df = tbox_df.groupby(['domain', 'P', 'range'], as_index=False).S.count()\n",
    "\n",
    "# the total number of triples from domain class to range class\n",
    "dr_df = tbox_df.groupby(['domain', 'range'], as_index=False).S.count()\n",
    "\n",
    "weight_df = pd.merge(tbox_df, dpr_df, on=['domain', 'P', 'range'], how='inner', suffixes=('','_dpr'))\n",
    "weight_df = pd.merge(weight_df, dr_df, on=['domain', 'range'], how='inner', suffixes=('','_dr'))\n",
    "weight_df['W'] = 1 - (weight_df['S_dpr'] / weight_df['S_dr'])"
   ]
  },
  {
   "cell_type": "code",
   "execution_count": 11,
   "metadata": {},
   "outputs": [],
   "source": [
    "def subclass(tree):\n",
    "    global head\n",
    "    if type(tree) is not list:\n",
    "        head = tree\n",
    "        tree = list(head.subclasses())\n",
    "    for node in tree :\n",
    "        subclass_paths.append((node, 'rdfs.subClassOf', head, 0.0))\n",
    "        subclass(list(node.subclasses()))"
   ]
  },
  {
   "cell_type": "code",
   "execution_count": 12,
   "metadata": {},
   "outputs": [],
   "source": [
    "subclass_paths = []\n",
    "classes = list(onto.classes())\n",
    "classes.append(Thing)\n",
    "for c in classes:\n",
    "    subclass(c)\n",
    "subclass_df = pd.DataFrame(subclass_paths, columns=['domain', 'P', 'range', 'W'])"
   ]
  },
  {
   "cell_type": "code",
   "execution_count": 13,
   "metadata": {},
   "outputs": [],
   "source": [
    "subclass_df = pd.concat([weight_df[['domain', 'P', 'range', 'W']], subclass_df])\n",
    "subclass_df = subclass_df.drop_duplicates().reset_index(drop=True)"
   ]
  },
  {
   "cell_type": "code",
   "execution_count": 14,
   "metadata": {},
   "outputs": [],
   "source": [
    "def change_prefix(s):\n",
    "    s = str(s)\n",
    "    s_list = s.rsplit('.',1) \n",
    "\n",
    "    if config['owl']['path'][:-3] in s:\n",
    "        s = s.replace(config['owl']['path'][:-3],'skmo:')\n",
    "    else:\n",
    "        s = s_list[0] + ':' + s_list[-1]\n",
    "    return s"
   ]
  },
  {
   "cell_type": "code",
   "execution_count": 15,
   "metadata": {},
   "outputs": [],
   "source": [
    "final_list = []\n",
    "for i, row in subclass_df.iterrows():\n",
    "    s,p,o,w = row\n",
    "    final_list.append((change_prefix(s), change_prefix(p), change_prefix(o), w))\n",
    "\n",
    "final_df = pd.DataFrame(final_list, columns=['domain', 'P', 'range', 'W'])"
   ]
  },
  {
   "cell_type": "code",
   "execution_count": 16,
   "metadata": {},
   "outputs": [
    {
     "data": {
      "text/html": [
       "<div>\n",
       "<style scoped>\n",
       "    .dataframe tbody tr th:only-of-type {\n",
       "        vertical-align: middle;\n",
       "    }\n",
       "\n",
       "    .dataframe tbody tr th {\n",
       "        vertical-align: top;\n",
       "    }\n",
       "\n",
       "    .dataframe thead th {\n",
       "        text-align: right;\n",
       "    }\n",
       "</style>\n",
       "<table border=\"1\" class=\"dataframe\">\n",
       "  <thead>\n",
       "    <tr style=\"text-align: right;\">\n",
       "      <th></th>\n",
       "      <th>domain</th>\n",
       "      <th>P</th>\n",
       "      <th>range</th>\n",
       "      <th>W</th>\n",
       "    </tr>\n",
       "  </thead>\n",
       "  <tbody>\n",
       "    <tr>\n",
       "      <th>0</th>\n",
       "      <td>skmo:Chart</td>\n",
       "      <td>dc:title</td>\n",
       "      <td>Literal_dc:title</td>\n",
       "      <td>0.000000</td>\n",
       "    </tr>\n",
       "    <tr>\n",
       "      <th>1</th>\n",
       "      <td>mo:Track</td>\n",
       "      <td>skmo:hasGenre</td>\n",
       "      <td>skmo:Genre</td>\n",
       "      <td>0.000000</td>\n",
       "    </tr>\n",
       "    <tr>\n",
       "      <th>2</th>\n",
       "      <td>mo:MusicGroup</td>\n",
       "      <td>foaf:name</td>\n",
       "      <td>Literal_foaf:name</td>\n",
       "      <td>0.000000</td>\n",
       "    </tr>\n",
       "    <tr>\n",
       "      <th>3</th>\n",
       "      <td>mo:Track</td>\n",
       "      <td>skmo:isArrangedBy</td>\n",
       "      <td>skmo:MusicArtist</td>\n",
       "      <td>0.846774</td>\n",
       "    </tr>\n",
       "    <tr>\n",
       "      <th>4</th>\n",
       "      <td>mo:Track</td>\n",
       "      <td>skmo:duetPartners</td>\n",
       "      <td>skmo:MusicArtist</td>\n",
       "      <td>0.983871</td>\n",
       "    </tr>\n",
       "    <tr>\n",
       "      <th>...</th>\n",
       "      <td>...</td>\n",
       "      <td>...</td>\n",
       "      <td>...</td>\n",
       "      <td>...</td>\n",
       "    </tr>\n",
       "    <tr>\n",
       "      <th>150</th>\n",
       "      <td>j.0:Unit</td>\n",
       "      <td>rdfs:subClassOf</td>\n",
       "      <td>owl:Thing</td>\n",
       "      <td>0.000000</td>\n",
       "    </tr>\n",
       "    <tr>\n",
       "      <th>151</th>\n",
       "      <td>j.0:TimeUnit</td>\n",
       "      <td>rdfs:subClassOf</td>\n",
       "      <td>owl:Thing</td>\n",
       "      <td>0.000000</td>\n",
       "    </tr>\n",
       "    <tr>\n",
       "      <th>152</th>\n",
       "      <td>j.0:Day</td>\n",
       "      <td>rdfs:subClassOf</td>\n",
       "      <td>owl:Thing</td>\n",
       "      <td>0.000000</td>\n",
       "    </tr>\n",
       "    <tr>\n",
       "      <th>153</th>\n",
       "      <td>j.0:Month</td>\n",
       "      <td>rdfs:subClassOf</td>\n",
       "      <td>owl:Thing</td>\n",
       "      <td>0.000000</td>\n",
       "    </tr>\n",
       "    <tr>\n",
       "      <th>154</th>\n",
       "      <td>j.0:Year</td>\n",
       "      <td>rdfs:subClassOf</td>\n",
       "      <td>owl:Thing</td>\n",
       "      <td>0.000000</td>\n",
       "    </tr>\n",
       "  </tbody>\n",
       "</table>\n",
       "<p>155 rows × 4 columns</p>\n",
       "</div>"
      ],
      "text/plain": [
       "            domain                  P              range         W\n",
       "0       skmo:Chart           dc:title   Literal_dc:title  0.000000\n",
       "1         mo:Track      skmo:hasGenre         skmo:Genre  0.000000\n",
       "2    mo:MusicGroup          foaf:name  Literal_foaf:name  0.000000\n",
       "3         mo:Track  skmo:isArrangedBy   skmo:MusicArtist  0.846774\n",
       "4         mo:Track  skmo:duetPartners   skmo:MusicArtist  0.983871\n",
       "..             ...                ...                ...       ...\n",
       "150       j.0:Unit    rdfs:subClassOf          owl:Thing  0.000000\n",
       "151   j.0:TimeUnit    rdfs:subClassOf          owl:Thing  0.000000\n",
       "152        j.0:Day    rdfs:subClassOf          owl:Thing  0.000000\n",
       "153      j.0:Month    rdfs:subClassOf          owl:Thing  0.000000\n",
       "154       j.0:Year    rdfs:subClassOf          owl:Thing  0.000000\n",
       "\n",
       "[155 rows x 4 columns]"
      ]
     },
     "execution_count": 16,
     "metadata": {},
     "output_type": "execute_result"
    }
   ],
   "source": [
    "final_df"
   ]
  },
  {
   "cell_type": "code",
   "execution_count": 17,
   "metadata": {},
   "outputs": [],
   "source": [
    "final_df.to_csv('../unit_path.csv', index=False)"
   ]
  }
 ],
 "metadata": {
  "kernelspec": {
   "display_name": "py39",
   "language": "python",
   "name": "python3"
  },
  "language_info": {
   "codemirror_mode": {
    "name": "ipython",
    "version": 3
   },
   "file_extension": ".py",
   "mimetype": "text/x-python",
   "name": "python",
   "nbconvert_exporter": "python",
   "pygments_lexer": "ipython3",
   "version": "3.9.16"
  },
  "orig_nbformat": 4
 },
 "nbformat": 4,
 "nbformat_minor": 2
}
