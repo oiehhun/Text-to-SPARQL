{
 "cells": [
  {
   "cell_type": "code",
   "execution_count": 10,
   "metadata": {},
   "outputs": [],
   "source": [
    "import sys\n",
    "sys.path.append('../')\n",
    "from setting import config_read"
   ]
  },
  {
   "cell_type": "code",
   "execution_count": 11,
   "metadata": {},
   "outputs": [],
   "source": [
    "import rdflib\n",
    "from mapping import ResourceMapper\n",
    "from graph import *"
   ]
  },
  {
   "cell_type": "code",
   "execution_count": 12,
   "metadata": {},
   "outputs": [],
   "source": [
    "config = config_read('../')\n",
    "\n",
    "rm = ResourceMapper(config)\n",
    "cgg = ConceptualGraphGenerator(config)\n",
    "qgg = QueryGraphGenerator(config)"
   ]
  },
  {
   "cell_type": "code",
   "execution_count": 13,
   "metadata": {},
   "outputs": [],
   "source": [
    "g = rdflib.Graph()\n",
    "g.parse(config['owl']['path'])\n",
    "\n",
    "SKMO = rdflib.Namespace(\"http://www.sktelecom.com/skmo/\")\n",
    "g.bind(\"skmo\", SKMO)\n",
    "SCHEMA = rdflib.Namespace(\"https://schema.org/\")\n",
    "g.bind(\"temp\", SCHEMA)\n",
    "SCHEMA = rdflib.Namespace(\"http://schema.org/\")\n",
    "g.bind(\"schema\", SCHEMA)"
   ]
  },
  {
   "cell_type": "code",
   "execution_count": 132,
   "metadata": {},
   "outputs": [],
   "source": [
    "# user_input = '가수 태연의 첫 데뷔곡은?'\n",
    "# user_input = '뱅뱅뱅 부른 음악그룹의 소속사는?'\n",
    "# user_input = '용감한 형제가 작곡한 노래의 장르는?'\n",
    "# user_input = '장르가 발라드인 노래'\n",
    "# user_input = '버벌진트가 피처링한 노래'\n",
    "# user_input = '소녀시대의 리더는?'\n",
    "user_input = '제니의 소속 그룹'\n",
    "resource_combination = rm.process(user_input)\n",
    "conceptual_graph = cgg.generate_all_conceptual_graph(resource_combination)\n",
    "query_graph = qgg.generate_query_graph(conceptual_graph)"
   ]
  },
  {
   "cell_type": "code",
   "execution_count": 133,
   "metadata": {},
   "outputs": [
    {
     "data": {
      "text/plain": [
       "[('foaf:Person(skmo:제니)', 'mo:member_of', 'mo:MusicGroup'),\n",
       " ('mo:MusicGroup', 'rdfs:subClassOf', 'foaf:Group')]"
      ]
     },
     "execution_count": 133,
     "metadata": {},
     "output_type": "execute_result"
    }
   ],
   "source": [
    "final_query_graph = sorted(query_graph, key=lambda x: (len(x[1]), -x[0]))[0][1]\n",
    "final_query_graph"
   ]
  },
  {
   "cell_type": "code",
   "execution_count": 134,
   "metadata": {},
   "outputs": [],
   "source": [
    "relation_triples = []\n",
    "\n",
    "for s,p,o in final_query_graph:\n",
    "    if p == 'rdfs:subClassOf': continue\n",
    "    if (s,p,o) in relation_triples: continue\n",
    "    \n",
    "    relation_triples.append((s,p,o))"
   ]
  },
  {
   "cell_type": "code",
   "execution_count": 135,
   "metadata": {},
   "outputs": [
    {
     "name": "stdout",
     "output_type": "stream",
     "text": [
      "\n",
      "SELECT DISTINCT ?target\n",
      "WHERE\n",
      "{\n",
      "    skmo:제니 mo:member_of ?target\n",
      "}\n",
      "\n",
      "http://www.sktelecom.com/skmo/블랙핑크\n"
     ]
    }
   ],
   "source": [
    "knows_query = \\\n",
    "f\"\"\"\n",
    "SELECT DISTINCT ?target\n",
    "WHERE\n",
    "\"\"\"\n",
    "prev_s = ''\n",
    "if relation_triples[-1][-1][-1] == ')':\n",
    "    target = relation_triples[-1][0]\n",
    "else:\n",
    "    target = relation_triples[-1][-1]\n",
    "var_dict = {target:'?target'}\n",
    "c = itertools.count()\n",
    "\n",
    "knows_query += '{'\n",
    "\n",
    "\n",
    "for s,p,o in relation_triples:\n",
    "    if s[-1] == ')' and o[-1] == ')':\n",
    "        continue\n",
    "\n",
    "    # domain이 instance 일때\n",
    "    if s[-1] == ')':\n",
    "        s_var = s[:-1].split('(')[-1]\n",
    "    # domain이 class 일때\n",
    "    else:\n",
    "        if s in var_dict:\n",
    "            s_var = var_dict[s]\n",
    "        else:\n",
    "            s_var = f'?x{next(c)}'\n",
    "            var_dict[s] = s_var\n",
    "\n",
    "    # range가 instance 일때\n",
    "    if o[-1] == ')':\n",
    "        o_var = o[:-1].split('(')[-1]\n",
    "    # range가 class 일때\n",
    "    else:\n",
    "        if o in var_dict:\n",
    "            o_var = var_dict[o]\n",
    "        else:\n",
    "            o_var = f'?x{next(c)}'\n",
    "            var_dict[o] = o_var\n",
    "\n",
    "    if prev_s == s_var:\n",
    "        s_var = ';'\n",
    "    else:\n",
    "        if not prev_s == '':\n",
    "            knows_query += '.'\n",
    "        prev_s = s_var\n",
    "        knows_query += '\\n    '\n",
    "    \n",
    "    knows_query += (' ').join([s_var, p, o_var])\n",
    "    \n",
    "knows_query += '\\n}'\n",
    "print(knows_query)\n",
    "\n",
    "qres = g.query(knows_query)\n",
    "\n",
    "print()\n",
    "\n",
    "for row in qres:\n",
    "    print(row['target'])"
   ]
  }
 ],
 "metadata": {
  "kernelspec": {
   "display_name": "py39",
   "language": "python",
   "name": "python3"
  },
  "language_info": {
   "codemirror_mode": {
    "name": "ipython",
    "version": 3
   },
   "file_extension": ".py",
   "mimetype": "text/x-python",
   "name": "python",
   "nbconvert_exporter": "python",
   "pygments_lexer": "ipython3",
   "version": "3.9.16"
  },
  "orig_nbformat": 4
 },
 "nbformat": 4,
 "nbformat_minor": 2
}
