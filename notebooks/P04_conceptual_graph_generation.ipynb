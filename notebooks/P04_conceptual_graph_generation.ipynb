{
 "cells": [
  {
   "cell_type": "code",
   "execution_count": 1,
   "metadata": {},
   "outputs": [],
   "source": [
    "import sys\n",
    "sys.path.append('../')\n",
    "from setting import config_read"
   ]
  },
  {
   "cell_type": "code",
   "execution_count": 2,
   "metadata": {},
   "outputs": [
    {
     "name": "stderr",
     "output_type": "stream",
     "text": [
      "* Owlready2 * Warning: optimized Cython parser module 'owlready2_optimized' is not available, defaulting to slower Python implementation\n",
      "\n",
      "Warning: SQLite3 version 3.40.0 and 3.41.2 have huge performance regressions; please install version 3.41.1 or 3.42!\n",
      "\n"
     ]
    }
   ],
   "source": [
    "import pandas as pd\n",
    "import owlready2\n",
    "from mapping import ResourceMapper\n",
    "from elasticsearch import Elasticsearch\n",
    "from graph import QueryGraphGenerator\n",
    "import itertools"
   ]
  },
  {
   "cell_type": "code",
   "execution_count": 3,
   "metadata": {},
   "outputs": [],
   "source": [
    "config = config_read('../')\n",
    "\n",
    "# Elasticsearch\n",
    "server_ip = config['elasticsearch']['ip']\n",
    "index_name = config['elasticsearch']['name']\n",
    "es = Elasticsearch(server_ip)\n",
    "rm = ResourceMapper(config)"
   ]
  },
  {
   "cell_type": "code",
   "execution_count": 18,
   "metadata": {},
   "outputs": [],
   "source": [
    "# user_input = '용감한 형제가 작곡한 노래의 장르는?'\n",
    "user_input = '뱅뱅뱅 부른 음악그룹의 소속사'\n",
    "resource_combinations = rm.process(user_input)"
   ]
  },
  {
   "cell_type": "code",
   "execution_count": 19,
   "metadata": {},
   "outputs": [],
   "source": [
    "def get_type(resource):\n",
    "    search_query = {\"query\":{\"term\":{\"URI.keyword\": resource}}}\n",
    "    result = es.search(index=index_name, body=search_query)\n",
    "    return result['hits']['hits'][0]['_source']['Type']"
   ]
  },
  {
   "cell_type": "code",
   "execution_count": 20,
   "metadata": {},
   "outputs": [
    {
     "data": {
      "text/plain": [
       "[[('skmo:뱅뱅뱅', 'skmo:isSungBy', 'mo:MusicGroup'),\n",
       "  ('mo:MusicGroup', 'schema:affiliation', 'owl:Thing')],\n",
       " [('skmo:뱅뱅뱅', 'skmo:isSungBy', 'owl:Thing'),\n",
       "  ('mo:MusicGroup', 'schema:affiliation', 'owl:Thing')],\n",
       " [('skmo:뱅뱅뱅', 'schema:affiliation', 'owl:Thing'),\n",
       "  ('mo:MusicGroup', 'schema:affiliation', 'owl:Thing')],\n",
       " [('skmo:뱅뱅뱅_inst', 'skmo:isSungBy', 'mo:MusicGroup'),\n",
       "  ('mo:MusicGroup', 'schema:affiliation', 'owl:Thing')],\n",
       " [('skmo:뱅뱅뱅_inst', 'skmo:isSungBy', 'owl:Thing'),\n",
       "  ('mo:MusicGroup', 'schema:affiliation', 'owl:Thing')],\n",
       " [('skmo:뱅뱅뱅_inst', 'schema:affiliation', 'owl:Thing'),\n",
       "  ('mo:MusicGroup', 'schema:affiliation', 'owl:Thing')],\n",
       " [('skmo:뱅뱅뱅_황치열', 'skmo:isSungBy', 'mo:MusicGroup'),\n",
       "  ('mo:MusicGroup', 'schema:affiliation', 'owl:Thing')],\n",
       " [('skmo:뱅뱅뱅_황치열', 'skmo:isSungBy', 'owl:Thing'),\n",
       "  ('mo:MusicGroup', 'schema:affiliation', 'owl:Thing')],\n",
       " [('skmo:뱅뱅뱅_황치열', 'schema:affiliation', 'owl:Thing'),\n",
       "  ('mo:MusicGroup', 'schema:affiliation', 'owl:Thing')]]"
      ]
     },
     "execution_count": 20,
     "metadata": {},
     "output_type": "execute_result"
    }
   ],
   "source": [
    "conceptual_graph = []\n",
    "for rc in resource_combinations:\n",
    "    # rightmost element is an edge\n",
    "    if get_type(rc[-1]) in ['T_dp', 'T_op']:\n",
    "        rc = list(rc)\n",
    "        rc.append('owl:Thing')\n",
    "\n",
    "    conceptual_arc_list = []\n",
    "\n",
    "    for i in range(len(rc)-1):\n",
    "        conceptual_arc = []\n",
    "        s_type = get_type(rc[i])\n",
    "\n",
    "        if s_type in ['T_dp', 'T_op']:\n",
    "            continue\n",
    "        \n",
    "        p_list = []\n",
    "        for j in range(i+1, len(rc)):\n",
    "            o_type = get_type(rc[j])\n",
    "            if o_type in ['T_dp', 'T_op']:\n",
    "                p_list.append(rc[j])\n",
    "            elif s_type == 'T_i' and o_type == 'T_i':\n",
    "                continue\n",
    "            else:\n",
    "                if len(p_list) == 0:\n",
    "                    conceptual_arc.append((rc[i],'Any P',rc[j]))\n",
    "                else:\n",
    "                    for p in p_list:\n",
    "                        conceptual_arc.append((rc[i], p, rc[j]))\n",
    "        conceptual_arc_list.append(conceptual_arc)\n",
    "    \n",
    "    for cg in list(itertools.product(*conceptual_arc_list)):\n",
    "        conceptual_graph.append(list(cg))\n",
    "\n",
    "conceptual_graph"
   ]
  },
  {
   "cell_type": "code",
   "execution_count": 21,
   "metadata": {},
   "outputs": [
    {
     "data": {
      "text/plain": [
       "[[('skmo:뱅뱅뱅', 'skmo:isSungBy', 'mo:MusicGroup'),\n",
       "  ('mo:MusicGroup', 'schema:affiliation', 'owl:Thing')],\n",
       " [('skmo:뱅뱅뱅_inst', 'skmo:isSungBy', 'mo:MusicGroup'),\n",
       "  ('mo:MusicGroup', 'schema:affiliation', 'owl:Thing')],\n",
       " [('skmo:뱅뱅뱅_황치열', 'skmo:isSungBy', 'mo:MusicGroup'),\n",
       "  ('mo:MusicGroup', 'schema:affiliation', 'owl:Thing')]]"
      ]
     },
     "execution_count": 21,
     "metadata": {},
     "output_type": "execute_result"
    }
   ],
   "source": [
    "conceptual_graph = []\n",
    "for rc in resource_combinations:\n",
    "    # rightmost element is an edge\n",
    "    if get_type(rc[-1]) in ['T_dp', 'T_op']:\n",
    "        rc = list(rc)\n",
    "        rc.append('owl:Thing')\n",
    "        \n",
    "    conceptual_arc = []\n",
    "    for i in range(len(rc)-1):\n",
    "        s_type = get_type(rc[i])\n",
    "\n",
    "        if s_type in ['T_dp', 'T_op']:\n",
    "            continue\n",
    "        \n",
    "        p = 'Any P'\n",
    "        for j in range(i+1, len(rc)):\n",
    "            o_type = get_type(rc[j])\n",
    "            if o_type in ['T_dp', 'T_op']:\n",
    "                p = rc[j]\n",
    "            elif s_type == 'T_i' and o_type == 'T_i':\n",
    "                break\n",
    "            else:\n",
    "                conceptual_arc.append((rc[i],p,rc[j]))\n",
    "                break\n",
    "    conceptual_graph.append(conceptual_arc)\n",
    "\n",
    "conceptual_graph"
   ]
  }
 ],
 "metadata": {
  "kernelspec": {
   "display_name": "py39",
   "language": "python",
   "name": "python3"
  },
  "language_info": {
   "codemirror_mode": {
    "name": "ipython",
    "version": 3
   },
   "file_extension": ".py",
   "mimetype": "text/x-python",
   "name": "python",
   "nbconvert_exporter": "python",
   "pygments_lexer": "ipython3",
   "version": "3.9.16"
  },
  "orig_nbformat": 4
 },
 "nbformat": 4,
 "nbformat_minor": 2
}
