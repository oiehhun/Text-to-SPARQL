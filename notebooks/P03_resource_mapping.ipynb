{
 "cells": [
  {
   "cell_type": "code",
   "execution_count": 1,
   "metadata": {},
   "outputs": [],
   "source": [
    "import sys\n",
    "sys.path.append('../')\n",
    "from setting import config_read"
   ]
  },
  {
   "cell_type": "code",
   "execution_count": 2,
   "metadata": {},
   "outputs": [
    {
     "name": "stderr",
     "output_type": "stream",
     "text": [
      "* Owlready2 * Warning: optimized Cython parser module 'owlready2_optimized' is not available, defaulting to slower Python implementation\n",
      "\n",
      "Warning: SQLite3 version 3.40.0 and 3.41.2 have huge performance regressions; please install version 3.41.1 or 3.42!\n",
      "\n"
     ]
    }
   ],
   "source": [
    "import numpy as np\n",
    "import itertools\n",
    "from owlready2 import get_ontology\n",
    "from elasticsearch import Elasticsearch\n",
    "from konlpy.tag import Okt"
   ]
  },
  {
   "cell_type": "code",
   "execution_count": 3,
   "metadata": {},
   "outputs": [],
   "source": [
    "# Read config file\n",
    "config = config_read('../')\n",
    "\n",
    "data_path = config['owl']['path']\n",
    "onto = get_ontology(data_path).load()\n",
    "\n",
    "# Elasticsearch\n",
    "server_ip = config['elasticsearch']['ip']\n",
    "index_name = config['elasticsearch']['name']\n",
    "es = Elasticsearch(server_ip)\n",
    "\n",
    "# OKT\n",
    "okt = Okt()"
   ]
  },
  {
   "cell_type": "code",
   "execution_count": 4,
   "metadata": {},
   "outputs": [
    {
     "data": {
      "text/plain": [
       "['용감한', '형제', '작곡', '노래', '장르']"
      ]
     },
     "execution_count": 4,
     "metadata": {},
     "output_type": "execute_result"
    }
   ],
   "source": [
    "user_input = input(\"Question: \")\n",
    "query_pos = okt.pos(user_input, norm=True)\n",
    "query_terms = [q[0] for q in query_pos if q[1] not in [\"Josa\", \"Punctuation\"]]\n",
    "query_terms"
   ]
  },
  {
   "cell_type": "code",
   "execution_count": 5,
   "metadata": {},
   "outputs": [
    {
     "data": {
      "text/plain": [
       "[['용감한 형제 작곡 노래 장르'],\n",
       " ['용감한', '형제 작곡 노래 장르'],\n",
       " ['용감한 형제', '작곡 노래 장르'],\n",
       " ['용감한 형제 작곡', '노래 장르'],\n",
       " ['용감한 형제 작곡 노래', '장르'],\n",
       " ['용감한', '형제', '작곡 노래 장르'],\n",
       " ['용감한', '형제 작곡', '노래 장르'],\n",
       " ['용감한', '형제 작곡 노래', '장르'],\n",
       " ['용감한 형제', '작곡', '노래 장르'],\n",
       " ['용감한 형제', '작곡 노래', '장르'],\n",
       " ['용감한 형제 작곡', '노래', '장르'],\n",
       " ['용감한', '형제', '작곡', '노래 장르'],\n",
       " ['용감한', '형제', '작곡 노래', '장르'],\n",
       " ['용감한', '형제 작곡', '노래', '장르'],\n",
       " ['용감한 형제', '작곡', '노래', '장르'],\n",
       " ['용감한', '형제', '작곡', '노래', '장르']]"
      ]
     },
     "execution_count": 5,
     "metadata": {},
     "output_type": "execute_result"
    }
   ],
   "source": [
    "query_patitions = [[\" \".join(query_terms)]]\n",
    "\n",
    "for slice_num in range(1,len(query_terms)):\n",
    "    for slice_list in itertools.combinations(range(len(query_terms)-1), slice_num):\n",
    "        qp = []\n",
    "        qp.append(\" \".join(query_terms[:slice_list[0]+1]))\n",
    "        \n",
    "        for s_i, slice_idx in enumerate(slice_list):\n",
    "            if s_i == len(slice_list) - 1 : break\n",
    "            qp.append(\" \".join(query_terms[slice_idx+1:slice_list[s_i+1]+1]))\n",
    "\n",
    "        qp.append(\" \".join(query_terms[slice_list[-1]+1:]))\n",
    "        query_patitions.append(qp)\n",
    "    \n",
    "query_patitions"
   ]
  },
  {
   "cell_type": "code",
   "execution_count": 6,
   "metadata": {},
   "outputs": [
    {
     "name": "stdout",
     "output_type": "stream",
     "text": [
      "['용감한 형제', '작곡', '노래', '장르']\n",
      "[0.0, 0.0, 3.58557035, 0.0, 3.2757437, 0.0, 0.0, 2.1838291333333335, 4.780760466666666, 4.5742093666666666, 4.5742093666666666, 1.792785175, 1.63787185, 3.430657025, 7.016227375, 4.17875376]\n"
     ]
    }
   ],
   "source": [
    "score_list = []\n",
    "\n",
    "for qp in query_patitions:\n",
    "    score = 0\n",
    "    for q in qp:\n",
    "        search_query = {\"query\":{\"term\":{\"Annotation Values.keyword\": q}}}\n",
    "        result = es.search(index=index_name, body=search_query)\n",
    "        if result['hits']['max_score'] :\n",
    "            score += result['hits']['max_score']\n",
    "    score_list.append(score/len(qp))\n",
    "\n",
    "p_star = query_patitions[np.argmax(score_list)]\n",
    "\n",
    "print(p_star)\n",
    "print(score_list)"
   ]
  },
  {
   "cell_type": "code",
   "execution_count": 7,
   "metadata": {},
   "outputs": [
    {
     "data": {
      "text/plain": [
       "[('skmo:용감한_형제', 'skmo:isComposedBy', 'mo:Track', 'skmo:Genre'),\n",
       " ('skmo:용감한_형제', 'skmo:isComposedBy', 'mo:Track', 'skmo:hasGenre')]"
      ]
     },
     "execution_count": 7,
     "metadata": {},
     "output_type": "execute_result"
    }
   ],
   "source": [
    "candidates_list = []\n",
    "\n",
    "for token in p_star:\n",
    "    search_query = {\"query\":{\"term\":{\"Annotation Values.keyword\": token}}}\n",
    "    result = es.search(index=index_name, body=search_query)\n",
    "    candidates = []\n",
    "    for res in result['hits']['hits']:\n",
    "        candidates.append(res['_source']['URI'])\n",
    "    candidates_list.append(candidates)\n",
    "\n",
    "resource_combinations = list(itertools.product(*candidates_list))\n",
    "resource_combinations"
   ]
  }
 ],
 "metadata": {
  "kernelspec": {
   "display_name": "py39",
   "language": "python",
   "name": "python3"
  },
  "language_info": {
   "codemirror_mode": {
    "name": "ipython",
    "version": 3
   },
   "file_extension": ".py",
   "mimetype": "text/x-python",
   "name": "python",
   "nbconvert_exporter": "python",
   "pygments_lexer": "ipython3",
   "version": "3.9.16"
  }
 },
 "nbformat": 4,
 "nbformat_minor": 2
}
