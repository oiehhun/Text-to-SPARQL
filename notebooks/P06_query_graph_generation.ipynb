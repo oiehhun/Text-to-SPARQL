{
 "cells": [
  {
   "cell_type": "code",
   "execution_count": 1,
   "metadata": {},
   "outputs": [],
   "source": [
    "import sys\n",
    "sys.path.append('../')\n",
    "from setting import config_read"
   ]
  },
  {
   "cell_type": "code",
   "execution_count": 2,
   "metadata": {},
   "outputs": [
    {
     "name": "stderr",
     "output_type": "stream",
     "text": [
      "* Owlready2 * Warning: optimized Cython parser module 'owlready2_optimized' is not available, defaulting to slower Python implementation\n",
      "\n",
      "Warning: SQLite3 version 3.40.0 and 3.41.2 have huge performance regressions; please install version 3.41.1 or 3.42!\n",
      "\n"
     ]
    }
   ],
   "source": [
    "from elasticsearch import Elasticsearch\n",
    "import pandas as pd\n",
    "from path import *\n",
    "from graph import ConceptualGraphGenerator\n",
    "from mapping import ResourceMapper"
   ]
  },
  {
   "cell_type": "code",
   "execution_count": 3,
   "metadata": {},
   "outputs": [],
   "source": [
    "config = config_read('../')\n",
    "\n",
    "# Elasticsearch\n",
    "server_ip = config['elasticsearch']['ip']\n",
    "index_name = config['elasticsearch']['name']\n",
    "es = Elasticsearch(server_ip)\n",
    "\n",
    "# Unit Path\n",
    "unit_path = pd.read_csv('../unit_path.csv')\n",
    "G = generate_graph(unit_path)\n",
    "\n",
    "rm = ResourceMapper(config)\n",
    "cgg = ConceptualGraphGenerator(config)"
   ]
  },
  {
   "cell_type": "code",
   "execution_count": 19,
   "metadata": {},
   "outputs": [],
   "source": [
    "user_input = '뱅뱅뱅 부른 음악그룹 소속사는?'\n",
    "# user_input = '용감한 형제가 작곡한 노래의 장르는?'\n",
    "resource_combinations = rm.process(user_input)\n",
    "conceptual_graph = cgg.generate_conceptual_graph(resource_combinations)"
   ]
  },
  {
   "cell_type": "code",
   "execution_count": 20,
   "metadata": {},
   "outputs": [],
   "source": [
    "def get_tbox(resource):\n",
    "    search_query = {\"query\":{\"term\":{\"URI.keyword\": resource}}}\n",
    "    result = es.search(index=index_name, body=search_query)\n",
    "    return result['hits']['hits'][0]['_source']['Tbox']"
   ]
  },
  {
   "cell_type": "code",
   "execution_count": 26,
   "metadata": {},
   "outputs": [
    {
     "name": "stdout",
     "output_type": "stream",
     "text": [
      "conceptual arc : ('skmo:뱅뱅뱅', 'skmo:isSungBy', 'mo:MusicGroup')\n",
      "Tbox : ('mo:Track', 'skmo:isSungBy', 'mo:MusicGroup')\n",
      "--------------------------------------------------------------------------------\n",
      "conceptual arc : ('mo:MusicGroup', 'schema:affiliation', 'owl:Thing')\n",
      "Tbox : ('mo:MusicGroup', 'schema:affiliation', 'owl:Thing')\n",
      "--------------------------------------------------------------------------------\n",
      "conceptual arc : ('skmo:뱅뱅뱅_inst', 'skmo:isSungBy', 'mo:MusicGroup')\n",
      "Tbox : ('skmo:Instrumental', 'skmo:isSungBy', 'mo:MusicGroup')\n",
      "--------------------------------------------------------------------------------\n",
      "conceptual arc : ('skmo:뱅뱅뱅_황치열', 'skmo:isSungBy', 'mo:MusicGroup')\n",
      "Tbox : ('mo:Track', 'skmo:isSungBy', 'mo:MusicGroup')\n",
      "--------------------------------------------------------------------------------\n"
     ]
    }
   ],
   "source": [
    "ca2sp = {}\n",
    "\n",
    "for cg in conceptual_graph:\n",
    "\n",
    "    for ca in cg:\n",
    "        if ca in ca2sp: \n",
    "            continue\n",
    "\n",
    "        ca2sp[ca] = []\n",
    "        d,p,r = ca\n",
    "\n",
    "        # Restict search space to Tbox level\n",
    "        if not G.has_node(d):\n",
    "            d = get_tbox(d)\n",
    "        else: d = [d]\n",
    "\n",
    "        if not G.has_node(r):\n",
    "            r = get_tbox(r)\n",
    "        else: r = [r]\n",
    "\n",
    "        p = [p]\n",
    "\n",
    "        # Find shortest path\n",
    "        for u,e,v in itertools.product(d,p,r):\n",
    "            \n",
    "            if e == 'Any P': e=None\n",
    "\n",
    "            print(f'conceptual arc : {ca}')\n",
    "            print(f'Tbox : {u, e, v}')\n",
    "            print('-'*80)\n",
    "\n",
    "            forward_result = find_shortest_path(G, u, v, e, weight=True)\n",
    "            backward_result = find_shortest_path(G, v, u, e, weight=True)\n",
    "\n",
    "            if forward_result[0] <= backward_result[0]:\n",
    "                score, result = forward_result\n",
    "                abox = ca[0], ca[-1]\n",
    "            else:\n",
    "                score, result = backward_result\n",
    "                abox = ca[-1], ca[0]\n",
    "\n",
    "            if len(result) == 0: continue\n",
    "\n",
    "            # 앞이 instance일 경우\n",
    "            if result[0][0] != abox[0]:\n",
    "                result[0] = (result[0][0] + '('+abox[0]+')', result[0][1], result[0][2])\n",
    "            \n",
    "            # 뒤가 instance일 경우\n",
    "            if result[-1][-1] != abox[1]:\n",
    "                result[-1] = (result[-1][0], result[-1][1], result[-1][2] + '('+abox[1]+')')\n",
    "            \n",
    "            ca2sp[ca].append((score,result))"
   ]
  },
  {
   "cell_type": "code",
   "execution_count": 27,
   "metadata": {},
   "outputs": [
    {
     "name": "stdout",
     "output_type": "stream",
     "text": [
      "----------------------------------------------------------------------------------------------------\n",
      "('skmo:뱅뱅뱅', 'skmo:isSungBy', 'mo:MusicGroup')의 shortest path : \n",
      "\n",
      "('mo:Track(skmo:뱅뱅뱅)', 'skmo:isSungBy', 'mo:MusicGroup')\n",
      "----------------------------------------------------------------------------------------------------\n",
      "('mo:MusicGroup', 'schema:affiliation', 'owl:Thing')의 shortest path : \n",
      "\n",
      "('mo:MusicGroup', 'schema:affiliation', 'foaf:Organization')\n",
      "('foaf:Organization', 'rdfs:subClassOf', 'owl:Thing')\n",
      "----------------------------------------------------------------------------------------------------\n",
      "('skmo:뱅뱅뱅_inst', 'skmo:isSungBy', 'mo:MusicGroup')의 shortest path : \n",
      "\n",
      "('skmo:Instrumental(skmo:뱅뱅뱅_inst)', 'skmo:isSungBy', 'mo:MusicGroup')\n",
      "----------------------------------------------------------------------------------------------------\n",
      "('skmo:뱅뱅뱅_황치열', 'skmo:isSungBy', 'mo:MusicGroup')의 shortest path : \n",
      "\n",
      "('mo:Track(skmo:뱅뱅뱅_황치열)', 'skmo:isSungBy', 'mo:MusicGroup')\n",
      "----------------------------------------------------------------------------------------------------\n"
     ]
    }
   ],
   "source": [
    "# Shortest Path\n",
    "for k,v in ca2sp.items():\n",
    "    if len(v) == 0:\n",
    "        print(f'{k}의 shortest path : ')\n",
    "        print(': 일치하는 shortest path가 없습니다.\\n')\n",
    "    else:\n",
    "        print('-'*100)\n",
    "        print(f'{k}의 shortest path : ')\n",
    "        for elem in v:\n",
    "            print()\n",
    "            for e in elem[1]:\n",
    "                print(e)\n",
    "print('-'*100)"
   ]
  },
  {
   "cell_type": "code",
   "execution_count": 23,
   "metadata": {},
   "outputs": [
    {
     "name": "stdout",
     "output_type": "stream",
     "text": [
      "[('mo:Track(skmo:뱅뱅뱅)', 'skmo:isSungBy', 'mo:MusicGroup'), ('mo:MusicGroup', 'schema:affiliation', 'foaf:Organization'), ('foaf:Organization', 'rdfs:subClassOf', 'owl:Thing')]\n",
      "[('skmo:Instrumental(skmo:뱅뱅뱅_inst)', 'skmo:isSungBy', 'mo:MusicGroup'), ('mo:MusicGroup', 'schema:affiliation', 'foaf:Organization'), ('foaf:Organization', 'rdfs:subClassOf', 'owl:Thing')]\n",
      "[('mo:Track(skmo:뱅뱅뱅_황치열)', 'skmo:isSungBy', 'mo:MusicGroup'), ('mo:MusicGroup', 'schema:affiliation', 'foaf:Organization'), ('foaf:Organization', 'rdfs:subClassOf', 'owl:Thing')]\n",
      "\n",
      ": 총 3개의 query graph candidates generated\n"
     ]
    }
   ],
   "source": [
    "query_graph = []\n",
    "for cg in conceptual_graph:\n",
    "    query_graph_candidates = []\n",
    "    for ca in cg:\n",
    "        query_graph_candidates.append(ca2sp[ca])\n",
    "    for qg in itertools.product(*query_graph_candidates):\n",
    "        sp_list = []\n",
    "        query_graph_score = 0\n",
    "        for arc_score, sp in qg:\n",
    "            query_graph_score += arc_score\n",
    "            sp_list.append(sp)\n",
    "        sp_list = sum(sp_list, list())\n",
    "        query_graph.append((query_graph_score, sp_list))\n",
    "\n",
    "for score, qg in query_graph:\n",
    "    print(qg)\n",
    "\n",
    "print(f'\\n: 총 {len(query_graph)}개의 query graph candidates generated')"
   ]
  },
  {
   "cell_type": "code",
   "execution_count": 24,
   "metadata": {},
   "outputs": [
    {
     "name": "stdout",
     "output_type": "stream",
     "text": [
      "[('mo:Track(skmo:뱅뱅뱅)', 'skmo:isSungBy', 'mo:MusicGroup'), ('mo:MusicGroup', 'schema:affiliation', 'foaf:Organization'), ('foaf:Organization', 'rdfs:subClassOf', 'owl:Thing')]\n",
      "[('skmo:Instrumental(skmo:뱅뱅뱅_inst)', 'skmo:isSungBy', 'mo:MusicGroup'), ('mo:MusicGroup', 'schema:affiliation', 'foaf:Organization'), ('foaf:Organization', 'rdfs:subClassOf', 'owl:Thing')]\n",
      "[('mo:Track(skmo:뱅뱅뱅_황치열)', 'skmo:isSungBy', 'mo:MusicGroup'), ('mo:MusicGroup', 'schema:affiliation', 'foaf:Organization'), ('foaf:Organization', 'rdfs:subClassOf', 'owl:Thing')]\n",
      "\n",
      ": 총 3개의 query graph candidates generated\n"
     ]
    }
   ],
   "source": [
    "for score, qg in query_graph:\n",
    "    print(qg)\n",
    "\n",
    "print(f'\\n: 총 {len(query_graph)}개의 query graph candidates generated')"
   ]
  },
  {
   "cell_type": "code",
   "execution_count": 25,
   "metadata": {},
   "outputs": [
    {
     "data": {
      "text/plain": [
       "[('mo:Track(skmo:뱅뱅뱅)', 'skmo:isSungBy', 'mo:MusicGroup'),\n",
       " ('mo:MusicGroup', 'schema:affiliation', 'foaf:Organization'),\n",
       " ('foaf:Organization', 'rdfs:subClassOf', 'owl:Thing')]"
      ]
     },
     "execution_count": 25,
     "metadata": {},
     "output_type": "execute_result"
    }
   ],
   "source": [
    "final_query_graph = sorted(query_graph, key=lambda x: (x[0], len(x[1])))[0][1]\n",
    "final_query_graph"
   ]
  }
 ],
 "metadata": {
  "kernelspec": {
   "display_name": "py39",
   "language": "python",
   "name": "python3"
  },
  "language_info": {
   "codemirror_mode": {
    "name": "ipython",
    "version": 3
   },
   "file_extension": ".py",
   "mimetype": "text/x-python",
   "name": "python",
   "nbconvert_exporter": "python",
   "pygments_lexer": "ipython3",
   "version": "3.9.16"
  }
 },
 "nbformat": 4,
 "nbformat_minor": 2
}
