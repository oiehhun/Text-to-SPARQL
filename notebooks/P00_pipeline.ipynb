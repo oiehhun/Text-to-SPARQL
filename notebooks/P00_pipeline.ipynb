{
 "cells": [
  {
   "cell_type": "code",
   "execution_count": 1,
   "metadata": {},
   "outputs": [],
   "source": [
    "import sys\n",
    "sys.path.append('../')\n",
    "from setting import config_read"
   ]
  },
  {
   "cell_type": "code",
   "execution_count": 2,
   "metadata": {},
   "outputs": [
    {
     "name": "stderr",
     "output_type": "stream",
     "text": [
      "* Owlready2 * Warning: optimized Cython parser module 'owlready2_optimized' is not available, defaulting to slower Python implementation\n",
      "\n",
      "Warning: SQLite3 version 3.40.0 and 3.41.2 have huge performance regressions; please install version 3.41.1 or 3.42!\n",
      "\n"
     ]
    }
   ],
   "source": [
    "from mapping import ResourceMapper\n",
    "from graph import *\n",
    "from sparql import SPAQLConverter"
   ]
  },
  {
   "cell_type": "code",
   "execution_count": 3,
   "metadata": {},
   "outputs": [],
   "source": [
    "config = config_read('../')\n",
    "rm = ResourceMapper(config)\n",
    "cgg = ConceptualGraphGenerator(config)\n",
    "qgg = QueryGraphGenerator(config)\n",
    "sc = SPAQLConverter(config)"
   ]
  },
  {
   "cell_type": "markdown",
   "metadata": {},
   "source": [
    "# 2-1. Query Partitioning"
   ]
  },
  {
   "cell_type": "code",
   "execution_count": 16,
   "metadata": {},
   "outputs": [
    {
     "data": {
      "text/plain": [
       "['국적', '뉴질랜드', '사람']"
      ]
     },
     "execution_count": 16,
     "metadata": {},
     "output_type": "execute_result"
    }
   ],
   "source": [
    "# user_input = '가수 태연의 첫 데뷔곡은?'\n",
    "# user_input = '뱅뱅뱅 부른 음악그룹의 소속사는?'\n",
    "# user_input = '용감한 형제가 작곡한 노래의 장르는?'\n",
    "# user_input = '작곡가이며 가수인 사람'\n",
    "# user_input = '장르가 발라드인 노래'\n",
    "# user_input = '가수 버벌진트가 피처링한 노래'\n",
    "# user_input = '태연이 처음 부른 노래는?'\n",
    "# user_input = '소녀시대의 리더는?'\n",
    "# user_input = '제니의 소속 그룹'\n",
    "# user_input = '레인을 작곡한 사람'\n",
    "user_input = '국적이 뉴질랜드 사람은?'\n",
    "# user_input = 'AOA 부른 발라드 노래'\n",
    "# user_input = '세월이 가면의 가수는?'\n",
    "# user_input = 'AOA 발라드 노래?'\n",
    "# user_input = '지드래곤 노래'\n",
    "query_terms = rm.tokenize_query(user_input)\n",
    "query_terms"
   ]
  },
  {
   "cell_type": "code",
   "execution_count": 17,
   "metadata": {},
   "outputs": [],
   "source": [
    "dependent_idx = -1\n",
    "for t_idx, token in enumerate(query_terms):\n",
    "    if token in ['무슨', '어느', '어떻다', '몇']:\n",
    "        dependent_idx = t_idx \n",
    "        break\n",
    "\n",
    "if dependent_idx >= 0:\n",
    "    new_query_terms = query_terms[:dependent_idx] + query_terms[dependent_idx+2:] + [query_terms[dependent_idx+1]]\n",
    "else:\n",
    "    new_query_terms = query_terms"
   ]
  },
  {
   "cell_type": "code",
   "execution_count": 18,
   "metadata": {},
   "outputs": [
    {
     "data": {
      "text/plain": [
       "['국적', '뉴질랜드', '사람']"
      ]
     },
     "execution_count": 18,
     "metadata": {},
     "output_type": "execute_result"
    }
   ],
   "source": [
    "new_query_terms"
   ]
  },
  {
   "cell_type": "code",
   "execution_count": 19,
   "metadata": {},
   "outputs": [
    {
     "data": {
      "text/plain": [
       "[['국적 뉴질랜드 사람'], ['국적', '뉴질랜드 사람'], ['국적 뉴질랜드', '사람'], ['국적', '뉴질랜드', '사람']]"
      ]
     },
     "execution_count": 19,
     "metadata": {},
     "output_type": "execute_result"
    }
   ],
   "source": [
    "query_patitions = rm.partition_query(new_query_terms)\n",
    "query_patitions"
   ]
  },
  {
   "cell_type": "markdown",
   "metadata": {},
   "source": [
    "# 2-2. Partition Scoring"
   ]
  },
  {
   "cell_type": "code",
   "execution_count": 20,
   "metadata": {},
   "outputs": [
    {
     "data": {
      "text/plain": [
       "['국적', '뉴질랜드', '사람']"
      ]
     },
     "execution_count": 20,
     "metadata": {},
     "output_type": "execute_result"
    }
   ],
   "source": [
    "p_star, score_list = rm.score_partition(query_patitions)\n",
    "p_star"
   ]
  },
  {
   "cell_type": "markdown",
   "metadata": {},
   "source": [
    "# 2-3. Generation of resource combination"
   ]
  },
  {
   "cell_type": "code",
   "execution_count": 21,
   "metadata": {},
   "outputs": [
    {
     "data": {
      "text/plain": [
       "[('schema:nationality', 'skmo:뉴질랜드', 'foaf:Person')]"
      ]
     },
     "execution_count": 21,
     "metadata": {},
     "output_type": "execute_result"
    }
   ],
   "source": [
    "resource_combinations = rm.combinate_resource(p_star)\n",
    "resource_combinations"
   ]
  },
  {
   "cell_type": "markdown",
   "metadata": {},
   "source": [
    "# 3. Conceptual graph generation"
   ]
  },
  {
   "cell_type": "code",
   "execution_count": 22,
   "metadata": {},
   "outputs": [
    {
     "data": {
      "text/plain": [
       "[[('owl:Thing', 'schema:nationality', 'skmo:뉴질랜드'),\n",
       "  ('skmo:뉴질랜드', 'Any P', 'foaf:Person')],\n",
       " [('owl:Thing', 'schema:nationality', 'foaf:Person'),\n",
       "  ('skmo:뉴질랜드', 'Any P', 'foaf:Person')]]"
      ]
     },
     "execution_count": 22,
     "metadata": {},
     "output_type": "execute_result"
    }
   ],
   "source": [
    "conceptual_graph = cgg.generate_conceptual_graph(resource_combinations)\n",
    "conceptual_graph"
   ]
  },
  {
   "cell_type": "markdown",
   "metadata": {},
   "source": [
    "# 4. Query graph generation"
   ]
  },
  {
   "cell_type": "code",
   "execution_count": 23,
   "metadata": {},
   "outputs": [
    {
     "data": {
      "text/plain": [
       "{('owl:Thing', 'schema:nationality', 'skmo:뉴질랜드'): [],\n",
       " ('skmo:뉴질랜드',\n",
       "  'Any P',\n",
       "  'foaf:Person'): [(0.0,\n",
       "   [('foaf:Person', 'schema:nationality', 'schema:Country(skmo:뉴질랜드)')])],\n",
       " ('owl:Thing',\n",
       "  'schema:nationality',\n",
       "  'foaf:Person'): [(0.0,\n",
       "   [('foaf:Person', 'schema:nationality', 'schema:Country'),\n",
       "    ('schema:Country', 'rdfs:subClassOf', 'owl:Thing')])]}"
      ]
     },
     "execution_count": 23,
     "metadata": {},
     "output_type": "execute_result"
    }
   ],
   "source": [
    "shortest_path_dict = qgg.search_at_tbox_level(conceptual_graph)\n",
    "shortest_path_dict"
   ]
  },
  {
   "cell_type": "code",
   "execution_count": 24,
   "metadata": {},
   "outputs": [
    {
     "data": {
      "text/plain": [
       "[(0.6666666666666666,\n",
       "  [('foaf:Person', 'schema:nationality', 'schema:Country'),\n",
       "   ('schema:Country', 'rdfs:subClassOf', 'owl:Thing'),\n",
       "   ('foaf:Person', 'schema:nationality', 'schema:Country(skmo:뉴질랜드)')])]"
      ]
     },
     "execution_count": 24,
     "metadata": {},
     "output_type": "execute_result"
    }
   ],
   "source": [
    "query_graph = qgg.generate_query_graph(conceptual_graph, shortest_path_dict)\n",
    "query_graph"
   ]
  },
  {
   "cell_type": "markdown",
   "metadata": {},
   "source": [
    "# 5. SPARQL Conversion"
   ]
  },
  {
   "cell_type": "code",
   "execution_count": 25,
   "metadata": {},
   "outputs": [
    {
     "data": {
      "text/plain": [
       "[('foaf:Person', 'schema:nationality', 'schema:Country'),\n",
       " ('schema:Country', 'rdfs:subClassOf', 'owl:Thing'),\n",
       " ('foaf:Person', 'schema:nationality', 'schema:Country(skmo:뉴질랜드)')]"
      ]
     },
     "execution_count": 25,
     "metadata": {},
     "output_type": "execute_result"
    }
   ],
   "source": [
    "final_query_graph = sc.select_query_graph(query_graph)\n",
    "final_query_graph"
   ]
  },
  {
   "cell_type": "code",
   "execution_count": 26,
   "metadata": {},
   "outputs": [
    {
     "data": {
      "text/plain": [
       "[('foaf:Person', 'schema:nationality', 'schema:Country'),\n",
       " ('foaf:Person', 'schema:nationality', 'schema:Country(skmo:뉴질랜드)')]"
      ]
     },
     "execution_count": 26,
     "metadata": {},
     "output_type": "execute_result"
    }
   ],
   "source": [
    "relation_triples = sc.extract_relation_triples(final_query_graph)\n",
    "relation_triples"
   ]
  },
  {
   "cell_type": "code",
   "execution_count": 27,
   "metadata": {},
   "outputs": [
    {
     "name": "stdout",
     "output_type": "stream",
     "text": [
      "<USER Query>\n",
      "국적이 뉴질랜드 사람은?\n",
      "\n",
      "<SPARQL Query>\n",
      "SELECT DISTINCT ?target \n",
      "WHERE\n",
      "{\n",
      "    ?target schema:nationality ?x0; schema:nationality skmo:뉴질랜드\n",
      "}\n",
      "\n",
      "<Answer>\n",
      "로제  "
     ]
    }
   ],
   "source": [
    "print('<USER Query>')\n",
    "print(user_input)\n",
    "print()\n",
    "\n",
    "\n",
    "print('<SPARQL Query>')\n",
    "knows_query = sc.generate_query(relation_triples)\n",
    "print(knows_query)\n",
    "\n",
    "\n",
    "print('\\n<Answer>')\n",
    "result = sc.excute_query(knows_query)\n",
    "sc.print_result(result)"
   ]
  }
 ],
 "metadata": {
  "kernelspec": {
   "display_name": "py39",
   "language": "python",
   "name": "python3"
  },
  "language_info": {
   "codemirror_mode": {
    "name": "ipython",
    "version": 3
   },
   "file_extension": ".py",
   "mimetype": "text/x-python",
   "name": "python",
   "nbconvert_exporter": "python",
   "pygments_lexer": "ipython3",
   "version": "3.9.16"
  },
  "orig_nbformat": 4
 },
 "nbformat": 4,
 "nbformat_minor": 2
}
