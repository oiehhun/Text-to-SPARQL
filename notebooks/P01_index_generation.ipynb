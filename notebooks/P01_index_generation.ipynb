{
 "cells": [
  {
   "cell_type": "code",
   "execution_count": 1,
   "metadata": {},
   "outputs": [],
   "source": [
    "import sys\n",
    "sys.path.append('../')\n",
    "from setting import config_read"
   ]
  },
  {
   "cell_type": "code",
   "execution_count": 2,
   "metadata": {},
   "outputs": [
    {
     "name": "stderr",
     "output_type": "stream",
     "text": [
      "* Owlready2 * Warning: optimized Cython parser module 'owlready2_optimized' is not available, defaulting to slower Python implementation\n",
      "\n",
      "Warning: SQLite3 version 3.40.0 and 3.41.2 have huge performance regressions; please install version 3.41.1 or 3.42!\n",
      "\n"
     ]
    }
   ],
   "source": [
    "from owlready2 import *\n",
    "import pandas as pd\n",
    "from elasticsearch import Elasticsearch\n",
    "from konlpy.tag import Okt"
   ]
  },
  {
   "cell_type": "code",
   "execution_count": 3,
   "metadata": {},
   "outputs": [],
   "source": [
    "# Read config file\n",
    "config = config_read('../')\n",
    "\n",
    "# Load owl file\n",
    "data_path = config['owl']['path']\n",
    "onto = get_ontology(data_path).load()\n",
    "\n",
    "okt = Okt()"
   ]
  },
  {
   "cell_type": "code",
   "execution_count": 4,
   "metadata": {},
   "outputs": [],
   "source": [
    "# Elasticsearch\n",
    "server_ip = config['elasticsearch']['ip']\n",
    "index_name = config['elasticsearch']['name']\n",
    "es = Elasticsearch(server_ip)"
   ]
  },
  {
   "cell_type": "code",
   "execution_count": 5,
   "metadata": {},
   "outputs": [],
   "source": [
    "def change_prefix(s):\n",
    "    s = str(s)\n",
    "    s_list = s.rsplit('.',1) \n",
    "\n",
    "    if data_path[:-3] in s:\n",
    "        s = s.replace(data_path[:-3],'skmo:')\n",
    "    else:\n",
    "        s = s_list[0] + ':' + s_list[-1]\n",
    "    return s"
   ]
  },
  {
   "cell_type": "code",
   "execution_count": 6,
   "metadata": {},
   "outputs": [],
   "source": [
    "def tokenize_query(input):\n",
    "    query_pos = okt.pos(input, norm=True)\n",
    "    query_terms = [q[0] for q in query_pos if q[1] not in [\"Josa\", \"Punctuation\"]]\n",
    "    return ' '.join(query_terms)"
   ]
  },
  {
   "cell_type": "code",
   "execution_count": 7,
   "metadata": {},
   "outputs": [],
   "source": [
    "def tokenize(label_list):\n",
    "    return [tokenize_query(label) for label in label_list]"
   ]
  },
  {
   "cell_type": "code",
   "execution_count": 8,
   "metadata": {},
   "outputs": [],
   "source": [
    "index_list = []\n",
    "index_list.extend([(change_prefix(r), \"T_c\", tokenize(r.label)) for r in onto.classes()])\n",
    "index_list.extend([(change_prefix(r), \"T_op\", tokenize(r.label)) for r in onto.object_properties()])\n",
    "index_list.extend([(change_prefix(r), \"T_dp\", tokenize(r.label)) for r in onto.data_properties()])"
   ]
  },
  {
   "cell_type": "code",
   "execution_count": 9,
   "metadata": {},
   "outputs": [],
   "source": [
    "instance_list = []\n",
    "for r in onto.individuals():\n",
    "    if r.is_a[0] == Thing:  continue\n",
    "    tbox = [change_prefix(t) for t in r.is_a]\n",
    "    instance_list.append((change_prefix(r), \"T_i\", tokenize(r.label), tbox))"
   ]
  },
  {
   "cell_type": "code",
   "execution_count": 10,
   "metadata": {},
   "outputs": [],
   "source": [
    "if es.indices.exists(index=index_name):\n",
    "    es.indices.delete(index=index_name,ignore=[400, 404])\n",
    "    print('Index has been deleted successfully')"
   ]
  },
  {
   "cell_type": "code",
   "execution_count": 11,
   "metadata": {},
   "outputs": [
    {
     "data": {
      "text/plain": [
       "{'_index': 'skmo',\n",
       " '_id': 'rr46k4sBJyIE9Xr096nt',\n",
       " '_version': 1,\n",
       " 'result': 'created',\n",
       " '_shards': {'total': 2, 'successful': 1, 'failed': 0},\n",
       " '_seq_no': 0,\n",
       " '_primary_term': 1}"
      ]
     },
     "execution_count": 11,
     "metadata": {},
     "output_type": "execute_result"
    }
   ],
   "source": [
    "# thing_list = ['언제', '누구', '무엇', '뭐']\n",
    "# doc = {'URI':'owl:Thing', 'Type':'T_c', 'Annotation Values':thing_list}\n",
    "doc = {'URI':'owl:Thing', 'Type':'T_c'}\n",
    "es.index(index=index_name, body=doc)"
   ]
  },
  {
   "cell_type": "code",
   "execution_count": 12,
   "metadata": {},
   "outputs": [],
   "source": [
    "for row in index_list:\n",
    "    doc = {'URI':row[0], 'Type':row[1], 'Annotation Values':row[2]}\n",
    "    es.index(index=index_name, body=doc)"
   ]
  },
  {
   "cell_type": "code",
   "execution_count": 13,
   "metadata": {},
   "outputs": [],
   "source": [
    "for row in instance_list:\n",
    "    doc = {'URI':row[0], 'Type':row[1], 'Annotation Values':row[2], 'Tbox':row[3]}\n",
    "    es.index(index=index_name, body=doc)"
   ]
  }
 ],
 "metadata": {
  "kernelspec": {
   "display_name": "py39",
   "language": "python",
   "name": "python3"
  },
  "language_info": {
   "codemirror_mode": {
    "name": "ipython",
    "version": 3
   },
   "file_extension": ".py",
   "mimetype": "text/x-python",
   "name": "python",
   "nbconvert_exporter": "python",
   "pygments_lexer": "ipython3",
   "version": "3.9.16"
  },
  "orig_nbformat": 4
 },
 "nbformat": 4,
 "nbformat_minor": 2
}
